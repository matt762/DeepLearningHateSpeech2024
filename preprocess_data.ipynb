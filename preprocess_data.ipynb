{
 "cells": [
  {
   "cell_type": "code",
   "execution_count": 1,
   "metadata": {},
   "outputs": [
    {
     "name": "stderr",
     "output_type": "stream",
     "text": [
      "/home/matt/.local/lib/python3.12/site-packages/tqdm/auto.py:21: TqdmWarning: IProgress not found. Please update jupyter and ipywidgets. See https://ipywidgets.readthedocs.io/en/stable/user_install.html\n",
      "  from .autonotebook import tqdm as notebook_tqdm\n"
     ]
    }
   ],
   "source": [
    "import getpass\n",
    "import os\n",
    "import re\n",
    "import torch\n",
    "import transformers\n",
    "import datasets\n",
    "import evaluate"
   ]
  },
  {
   "cell_type": "code",
   "execution_count": 2,
   "metadata": {},
   "outputs": [
    {
     "name": "stdout",
     "output_type": "stream",
     "text": [
      "DatasetDict({\n",
      "    train: Dataset({\n",
      "        features: ['comment_id', 'annotator_id', 'platform', 'sentiment', 'respect', 'insult', 'humiliate', 'status', 'dehumanize', 'violence', 'genocide', 'attack_defend', 'hatespeech', 'hate_speech_score', 'text', 'infitms', 'outfitms', 'annotator_severity', 'std_err', 'annotator_infitms', 'annotator_outfitms', 'hypothesis', 'target_race_asian', 'target_race_black', 'target_race_latinx', 'target_race_middle_eastern', 'target_race_native_american', 'target_race_pacific_islander', 'target_race_white', 'target_race_other', 'target_race', 'target_religion_atheist', 'target_religion_buddhist', 'target_religion_christian', 'target_religion_hindu', 'target_religion_jewish', 'target_religion_mormon', 'target_religion_muslim', 'target_religion_other', 'target_religion', 'target_origin_immigrant', 'target_origin_migrant_worker', 'target_origin_specific_country', 'target_origin_undocumented', 'target_origin_other', 'target_origin', 'target_gender_men', 'target_gender_non_binary', 'target_gender_transgender_men', 'target_gender_transgender_unspecified', 'target_gender_transgender_women', 'target_gender_women', 'target_gender_other', 'target_gender', 'target_sexuality_bisexual', 'target_sexuality_gay', 'target_sexuality_lesbian', 'target_sexuality_straight', 'target_sexuality_other', 'target_sexuality', 'target_age_children', 'target_age_teenagers', 'target_age_young_adults', 'target_age_middle_aged', 'target_age_seniors', 'target_age_other', 'target_age', 'target_disability_physical', 'target_disability_cognitive', 'target_disability_neurological', 'target_disability_visually_impaired', 'target_disability_hearing_impaired', 'target_disability_unspecific', 'target_disability_other', 'target_disability', 'annotator_gender', 'annotator_trans', 'annotator_educ', 'annotator_income', 'annotator_ideology', 'annotator_gender_men', 'annotator_gender_women', 'annotator_gender_non_binary', 'annotator_gender_prefer_not_to_say', 'annotator_gender_self_describe', 'annotator_transgender', 'annotator_cisgender', 'annotator_transgender_prefer_not_to_say', 'annotator_education_some_high_school', 'annotator_education_high_school_grad', 'annotator_education_some_college', 'annotator_education_college_grad_aa', 'annotator_education_college_grad_ba', 'annotator_education_professional_degree', 'annotator_education_masters', 'annotator_education_phd', 'annotator_income_<10k', 'annotator_income_10k-50k', 'annotator_income_50k-100k', 'annotator_income_100k-200k', 'annotator_income_>200k', 'annotator_ideology_extremeley_conservative', 'annotator_ideology_conservative', 'annotator_ideology_slightly_conservative', 'annotator_ideology_neutral', 'annotator_ideology_slightly_liberal', 'annotator_ideology_liberal', 'annotator_ideology_extremeley_liberal', 'annotator_ideology_no_opinion', 'annotator_race_asian', 'annotator_race_black', 'annotator_race_latinx', 'annotator_race_middle_eastern', 'annotator_race_native_american', 'annotator_race_pacific_islander', 'annotator_race_white', 'annotator_race_other', 'annotator_age', 'annotator_religion_atheist', 'annotator_religion_buddhist', 'annotator_religion_christian', 'annotator_religion_hindu', 'annotator_religion_jewish', 'annotator_religion_mormon', 'annotator_religion_muslim', 'annotator_religion_nothing', 'annotator_religion_other', 'annotator_sexuality_bisexual', 'annotator_sexuality_gay', 'annotator_sexuality_straight', 'annotator_sexuality_other'],\n",
      "        num_rows: 135556\n",
      "    })\n",
      "})\n",
      "{'train': (135556, 131)}\n"
     ]
    },
    {
     "data": {
      "text/plain": [
       "{'comment_id': 47777,\n",
       " 'annotator_id': 10873,\n",
       " 'platform': 3,\n",
       " 'sentiment': 0.0,\n",
       " 'respect': 0.0,\n",
       " 'insult': 0.0,\n",
       " 'humiliate': 0.0,\n",
       " 'status': 2.0,\n",
       " 'dehumanize': 0.0,\n",
       " 'violence': 0.0,\n",
       " 'genocide': 0.0,\n",
       " 'attack_defend': 0.0,\n",
       " 'hatespeech': 0.0,\n",
       " 'hate_speech_score': -3.9,\n",
       " 'text': 'Yes indeed. She sort of reminds me of the elder lady that played the part in the movie \"Titanic\" who was telling her story!!! And I wouldn\\'t have wanted to cover who I really am!! I would be proud!!!! WE should be proud of our race no matter what it is!!',\n",
       " 'infitms': 0.81,\n",
       " 'outfitms': 1.88,\n",
       " 'annotator_severity': 0.36,\n",
       " 'std_err': 0.34,\n",
       " 'annotator_infitms': 1.35,\n",
       " 'annotator_outfitms': 1.23,\n",
       " 'hypothesis': -1.1301777576839678,\n",
       " 'target_race_asian': True,\n",
       " 'target_race_black': True,\n",
       " 'target_race_latinx': True,\n",
       " 'target_race_middle_eastern': True,\n",
       " 'target_race_native_american': True,\n",
       " 'target_race_pacific_islander': True,\n",
       " 'target_race_white': True,\n",
       " 'target_race_other': False,\n",
       " 'target_race': True,\n",
       " 'target_religion_atheist': False,\n",
       " 'target_religion_buddhist': False,\n",
       " 'target_religion_christian': False,\n",
       " 'target_religion_hindu': False,\n",
       " 'target_religion_jewish': False,\n",
       " 'target_religion_mormon': False,\n",
       " 'target_religion_muslim': False,\n",
       " 'target_religion_other': False,\n",
       " 'target_religion': False,\n",
       " 'target_origin_immigrant': False,\n",
       " 'target_origin_migrant_worker': False,\n",
       " 'target_origin_specific_country': False,\n",
       " 'target_origin_undocumented': False,\n",
       " 'target_origin_other': False,\n",
       " 'target_origin': False,\n",
       " 'target_gender_men': False,\n",
       " 'target_gender_non_binary': False,\n",
       " 'target_gender_transgender_men': False,\n",
       " 'target_gender_transgender_unspecified': False,\n",
       " 'target_gender_transgender_women': False,\n",
       " 'target_gender_women': False,\n",
       " 'target_gender_other': False,\n",
       " 'target_gender': False,\n",
       " 'target_sexuality_bisexual': False,\n",
       " 'target_sexuality_gay': False,\n",
       " 'target_sexuality_lesbian': False,\n",
       " 'target_sexuality_straight': False,\n",
       " 'target_sexuality_other': False,\n",
       " 'target_sexuality': False,\n",
       " 'target_age_children': False,\n",
       " 'target_age_teenagers': False,\n",
       " 'target_age_young_adults': False,\n",
       " 'target_age_middle_aged': False,\n",
       " 'target_age_seniors': False,\n",
       " 'target_age_other': False,\n",
       " 'target_age': False,\n",
       " 'target_disability_physical': False,\n",
       " 'target_disability_cognitive': False,\n",
       " 'target_disability_neurological': False,\n",
       " 'target_disability_visually_impaired': False,\n",
       " 'target_disability_hearing_impaired': False,\n",
       " 'target_disability_unspecific': False,\n",
       " 'target_disability_other': False,\n",
       " 'target_disability': False,\n",
       " 'annotator_gender': 'male',\n",
       " 'annotator_trans': 'no',\n",
       " 'annotator_educ': 'college_grad_ba',\n",
       " 'annotator_income': '<10k',\n",
       " 'annotator_ideology': 'neutral',\n",
       " 'annotator_gender_men': True,\n",
       " 'annotator_gender_women': False,\n",
       " 'annotator_gender_non_binary': False,\n",
       " 'annotator_gender_prefer_not_to_say': False,\n",
       " 'annotator_gender_self_describe': False,\n",
       " 'annotator_transgender': False,\n",
       " 'annotator_cisgender': True,\n",
       " 'annotator_transgender_prefer_not_to_say': False,\n",
       " 'annotator_education_some_high_school': False,\n",
       " 'annotator_education_high_school_grad': False,\n",
       " 'annotator_education_some_college': False,\n",
       " 'annotator_education_college_grad_aa': False,\n",
       " 'annotator_education_college_grad_ba': True,\n",
       " 'annotator_education_professional_degree': False,\n",
       " 'annotator_education_masters': False,\n",
       " 'annotator_education_phd': False,\n",
       " 'annotator_income_<10k': True,\n",
       " 'annotator_income_10k-50k': False,\n",
       " 'annotator_income_50k-100k': False,\n",
       " 'annotator_income_100k-200k': False,\n",
       " 'annotator_income_>200k': False,\n",
       " 'annotator_ideology_extremeley_conservative': False,\n",
       " 'annotator_ideology_conservative': False,\n",
       " 'annotator_ideology_slightly_conservative': False,\n",
       " 'annotator_ideology_neutral': True,\n",
       " 'annotator_ideology_slightly_liberal': False,\n",
       " 'annotator_ideology_liberal': False,\n",
       " 'annotator_ideology_extremeley_liberal': False,\n",
       " 'annotator_ideology_no_opinion': False,\n",
       " 'annotator_race_asian': False,\n",
       " 'annotator_race_black': False,\n",
       " 'annotator_race_latinx': False,\n",
       " 'annotator_race_middle_eastern': False,\n",
       " 'annotator_race_native_american': False,\n",
       " 'annotator_race_pacific_islander': False,\n",
       " 'annotator_race_white': True,\n",
       " 'annotator_race_other': False,\n",
       " 'annotator_age': 25.0,\n",
       " 'annotator_religion_atheist': False,\n",
       " 'annotator_religion_buddhist': False,\n",
       " 'annotator_religion_christian': True,\n",
       " 'annotator_religion_hindu': False,\n",
       " 'annotator_religion_jewish': False,\n",
       " 'annotator_religion_mormon': False,\n",
       " 'annotator_religion_muslim': False,\n",
       " 'annotator_religion_nothing': False,\n",
       " 'annotator_religion_other': False,\n",
       " 'annotator_sexuality_bisexual': False,\n",
       " 'annotator_sexuality_gay': False,\n",
       " 'annotator_sexuality_straight': True,\n",
       " 'annotator_sexuality_other': False}"
      ]
     },
     "execution_count": 2,
     "metadata": {},
     "output_type": "execute_result"
    }
   ],
   "source": [
    "#load a dataset form the HuggingFace Hub\n",
    "dataset = datasets.load_dataset('ucberkeley-dlab/measuring-hate-speech')\n",
    "\n",
    "# check the dataset structure\n",
    "print(dataset)\n",
    "\n",
    "# check the size of the dataset\n",
    "print(dataset.shape)\n",
    "\n",
    "# take a look at an example\n",
    "dataset[\"train\"][0]"
   ]
  },
  {
   "cell_type": "code",
   "execution_count": 3,
   "metadata": {},
   "outputs": [
    {
     "name": "stdout",
     "output_type": "stream",
     "text": [
      "review:  Yes indeed. She sort of reminds me of the elder lady that played the part in the movie \"Titanic\" who was telling her story!!! And I wouldn't have wanted to cover who I really am!! I would be proud!!!! WE should be proud of our race no matter what it is!!\n",
      "hate_speech_score:  -3.9\n",
      "review:  لا تتشمت الرجال مسكين يعاني كس امه 😂. يقول ياليتهم كانوا عرب.  OP, I really hope that you commit suicide one day or die of ass cancer. Just because you \"feel sorry\" does not justify the action.  It is your fault of leaving your country to fight in Afghanistan. These poor boys were defending their country from foreign invaders.  الله يلعن البجاحه الي عايشين فيها الامريكان.\n",
      "hate_speech_score:  -0.2\n",
      "135556 [-3.9, -6.52, 0.36, 0.26, 1.54, -4.93, 0.17, 2.08, -0.66, -0.38] [-3.1, -0.2, -2.89, -1.69, -2.49, -4.88, -4.4, -2.49, -4.4, -0.2]\n"
     ]
    }
   ],
   "source": [
    "# take a look at an example\n",
    "print(\"review: \", dataset[\"train\"][0][\"text\"])\n",
    "print(\"hate_speech_score: \", dataset[\"train\"][0][\"hate_speech_score\"])\n",
    "\n",
    "print(\"review: \", dataset[\"train\"][-1][\"text\"])\n",
    "print(\"hate_speech_score: \", dataset[\"train\"][-1][\"hate_speech_score\"])\n",
    "\n",
    "print(len(dataset[\"train\"][\"hate_speech_score\"]), dataset[\"train\"][\"hate_speech_score\"][:10],dataset[\"train\"][\"hate_speech_score\"][-10:] )"
   ]
  },
  {
   "cell_type": "code",
   "execution_count": 5,
   "metadata": {},
   "outputs": [
    {
     "name": "stdout",
     "output_type": "stream",
     "text": [
      "Training set size: 86755\n",
      "Validation set size: 21689\n",
      "Test set size: 27112\n"
     ]
    }
   ],
   "source": [
    "import pandas as pd\n",
    "from sklearn.model_selection import train_test_split\n",
    "\n",
    "# Convert dataset[\"train\"] into a pandas DataFrame\n",
    "train_df = pd.DataFrame(dataset[\"train\"])\n",
    "\n",
    "# Split the DataFrame into training and test sets\n",
    "train_data, test_data = train_test_split(train_df, test_size=0.2, random_state=42)\n",
    "\n",
    "# Split the training set into training and validation sets\n",
    "train_data, val_data = train_test_split(train_data, test_size=0.2, random_state=42)\n",
    "\n",
    "# Print the sizes of the datasets\n",
    "print(\"Training set size:\", len(train_data))\n",
    "print(\"Validation set size:\", len(val_data))\n",
    "print(\"Test set size:\", len(test_data))\n"
   ]
  },
  {
   "cell_type": "code",
   "execution_count": 7,
   "metadata": {},
   "outputs": [],
   "source": [
    "# Save the training set\n",
    "train_data.to_csv('train_data.csv', index=False)\n",
    "\n",
    "# Save the test set\n",
    "test_data.to_csv('test_data.csv', index=False)\n",
    "\n",
    "# Save the validation set\n",
    "val_data.to_csv('val_data.csv', index=False)\n"
   ]
  }
 ],
 "metadata": {
  "kernelspec": {
   "display_name": "Python 3",
   "language": "python",
   "name": "python3"
  },
  "language_info": {
   "codemirror_mode": {
    "name": "ipython",
    "version": 3
   },
   "file_extension": ".py",
   "mimetype": "text/x-python",
   "name": "python",
   "nbconvert_exporter": "python",
   "pygments_lexer": "ipython3",
   "version": "3.12.2"
  }
 },
 "nbformat": 4,
 "nbformat_minor": 2
}
