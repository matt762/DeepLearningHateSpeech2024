{
 "cells": [
  {
   "cell_type": "code",
   "execution_count": null,
   "metadata": {},
   "outputs": [],
   "source": [
    "!pip install datasets\n",
    "!pip install transformers\n",
    "!pip install torch\n",
    "!pip install evaluate\n",
    "!pip install tqdm\n",
    "!pip install numpy"
   ]
  },
  {
   "cell_type": "code",
   "execution_count": null,
   "metadata": {},
   "outputs": [],
   "source": [
    "import datasets\n",
    "from transformers import AutoTokenizer\n",
    "import numpy as np\n",
    "import evaluate\n",
    "from transformers import AutoModelForSequenceClassification\n",
    "import torch\n",
    "from torch.utils.data import DataLoader\n",
    "from torch.optim import AdamW\n",
    "from transformers import get_scheduler\n",
    "from tqdm.auto import tqdm"
   ]
  },
  {
   "cell_type": "markdown",
   "metadata": {},
   "source": [
    "# Prepare the dataset"
   ]
  },
  {
   "cell_type": "code",
   "execution_count": null,
   "metadata": {},
   "outputs": [],
   "source": [
    "pre_trained_model = \"google/bert_uncased_L-2_H-128_A-2\"\n",
    "feature = \"violence\"\n",
    "number_classes = 5"
   ]
  },
  {
   "cell_type": "code",
   "execution_count": null,
   "metadata": {},
   "outputs": [],
   "source": [
    "#Tokenizer\n",
    "tokenizer  = AutoTokenizer.from_pretrained(pre_trained_model, model_max_length=512)\n",
    "\n",
    "def tokenize_function(examples):\n",
    "    return tokenizer(examples[\"text\"], padding=\"max_length\", truncation=True)\n",
    "\n",
    "\n",
    "## Hate dataset\n",
    "hate = datasets.load_dataset('ucberkeley-dlab/measuring-hate-speech')\n",
    "\n",
    "train_testvalid = hate['train'].train_test_split(test_size=0.2)\n",
    "# Split the 10% test + valid in half test, half valid\n",
    "test_valid = train_testvalid['test'].train_test_split(test_size=0.5)\n",
    "# gather everyone if you want to have a single DatasetDict\n",
    "hate = datasets.DatasetDict({\n",
    "    'train': train_testvalid['train'],\n",
    "    'test': test_valid['test'],\n",
    "    'valid': test_valid['train']})\n",
    "hate_small = hate.select_columns([\"text\", feature])\n",
    "hate_small = hate_small.rename_column(feature, \"label\")\n",
    "\n",
    "new_features = hate_small['train'].features.copy()\n",
    "new_features[\"label\"] = datasets.ClassLabel(num_classes=number_classes)\n",
    "hate_small['train'] = hate_small['train'].cast(new_features)\n",
    "\n",
    "tokenized_hate_small = hate_small.map(tokenize_function, batched=True)\n",
    "tokenized_hate_small = tokenized_hate_small.remove_columns([\"text\"])\n",
    "tokenized_hate_small = tokenized_hate_small.rename_column(\"label\", \"labels\")\n",
    "\n",
    "tokenized_hate_small.set_format(\"torch\")\n",
    "\n",
    "# Save tokenized datasets\n",
    "tokenized_hate_small.save_to_disk('./datasets/tokenized_hate_small')"
   ]
  },
  {
   "cell_type": "markdown",
   "metadata": {},
   "source": [
    "# Train the model"
   ]
  },
  {
   "cell_type": "code",
   "execution_count": null,
   "metadata": {},
   "outputs": [],
   "source": [
    "tokenized_hate_small = datasets.load_from_disk('./datasets/tokenized_hate_small')\n",
    "\n",
    "device = torch.device(\"cuda\") if torch.cuda.is_available() else torch.device(\"cpu\")\n",
    "print(device)\n",
    "   \n",
    "#tokenized_hate_small_train = tokenized_hate_small['train'].shuffle(seed=42)\n",
    "#tokenized_hate_small_test = tokenized_hate_small['test'].shuffle(seed=42)\n",
    "\n",
    "tokenized_hate_small_train = tokenized_hate_small['train'].shuffle(seed=42).select(range(10000))\n",
    "tokenized_hate_small_test = tokenized_hate_small['test'].shuffle(seed=42).select(range(10000))\n",
    "\n",
    "train_dataloader = DataLoader(tokenized_hate_small_train, shuffle=True, batch_size=8)\n",
    "eval_dataloader = DataLoader(tokenized_hate_small_test, batch_size=8)\n",
    "\n",
    "model = AutoModelForSequenceClassification.from_pretrained(pre_trained_model, num_labels=number_classes)\n",
    "\n",
    "optimizer = AdamW(model.parameters(), lr=5e-5)\n",
    "\n",
    "num_epochs = 3\n",
    "num_training_steps = num_epochs * len(train_dataloader)\n",
    "lr_scheduler = get_scheduler(\n",
    "    name=\"linear\", optimizer=optimizer, num_warmup_steps=1, num_training_steps=num_training_steps\n",
    ")\n",
    "\n",
    "model.to(device)\n",
    "\n",
    "progress_bar = tqdm(range(num_training_steps))\n",
    "\n",
    "model.train()\n",
    "for epoch in range(num_epochs):\n",
    "    for batch in train_dataloader:\n",
    "        batch = {k: v.to(device) for k, v in batch.items()}\n",
    "        batch[\"labels\"] = batch[\"labels\"].long()  # Convert labels to LongTensor\n",
    "        outputs = model(**batch)\n",
    "        loss = outputs.loss\n",
    "        loss.backward()\n",
    "        optimizer.step()\n",
    "        lr_scheduler.step()\n",
    "        optimizer.zero_grad()\n",
    "        progress_bar.update(1)\n",
    "        \n",
    "\n",
    "metric = evaluate.load(\"accuracy\")\n",
    "progress_bar = tqdm(range(len(eval_dataloader)))\n",
    "model.eval()\n",
    "for batch in eval_dataloader:\n",
    "    batch = {k: v.to(device) for k, v in batch.items()}\n",
    "    batch[\"labels\"] = batch[\"labels\"].long()  # Convert labels to LongTensor\n",
    "    with torch.no_grad():\n",
    "        outputs = model(**batch)\n",
    "    logits = outputs.logits\n",
    "    predictions = torch.argmax(logits, dim=-1)\n",
    "    metric.add_batch(predictions=predictions, references=batch[\"labels\"])\n",
    "    progress_bar.update(1)\n",
    "metric.compute()\n",
    "    \n",
    "# Save the model\n",
    "model.save_pretrained(\"./model\")"
   ]
  },
  {
   "cell_type": "markdown",
   "metadata": {},
   "source": [
    "# Use the model"
   ]
  },
  {
   "cell_type": "code",
   "execution_count": null,
   "metadata": {},
   "outputs": [],
   "source": [
    "text = input(\"Enter a sentence: \")\n",
    "\n",
    "inputs = tokenizer(text, return_tensors=\"pt\",  padding = True, truncation = True)\n",
    "inputs = inputs.to(device)\n",
    "\n",
    "with torch.no_grad():\n",
    "    outputs = model(**inputs)\n",
    "    logits = outputs.logits\n",
    "    \n",
    "predicted_class_id = logits.argmax().item()\n",
    "print(\"predicted_class_id: \", predicted_class_id)"
   ]
  }
 ],
 "metadata": {
  "language_info": {
   "name": "python"
  }
 },
 "nbformat": 4,
 "nbformat_minor": 2
}
